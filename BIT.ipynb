{
  "nbformat": 4,
  "nbformat_minor": 0,
  "metadata": {
    "colab": {
      "name": "Untitled2.ipynb",
      "provenance": [],
      "include_colab_link": true
    },
    "kernelspec": {
      "name": "python3",
      "display_name": "Python 3"
    },
    "language_info": {
      "name": "python"
    }
  },
  "cells": [
    {
      "cell_type": "markdown",
      "metadata": {
        "id": "view-in-github",
        "colab_type": "text"
      },
      "source": [
        "<a href=\"https://colab.research.google.com/github/pentai23/BitkubAndBinance/blob/main/BIT.ipynb\" target=\"_parent\"><img src=\"https://colab.research.google.com/assets/colab-badge.svg\" alt=\"Open In Colab\"/></a>"
      ]
    },
    {
      "cell_type": "code",
      "source": [
        "import hashlib\n",
        "import hmac\n",
        "import json\n",
        "import requests\n",
        "\n",
        "# API info\n",
        "API_HOST = 'https://api.bitkub.com'\n",
        "API_KEY = '7a047a9efb2b3db40d5c385ff9556bd6'\n",
        "API_SECRET = b'03bd0111f5f9583f243d78c01e8740a1'\n",
        "\n",
        "def json_encode(data):\n",
        "\treturn json.dumps(data, separators=(',', ':'), sort_keys=True)\n",
        "\n",
        "def sign(data):\n",
        "\tj = json_encode(data)\n",
        "\tprint('Signing payload: ' + j)\n",
        "\th = hmac.new(API_SECRET, msg=j.encode(), digestmod=hashlib.sha256)\n",
        "\treturn h.hexdigest()\n",
        "\n",
        "# check server time\n",
        "response = requests.get(API_HOST + '/api/servertime')\n",
        "ts = int(response.text)\n",
        "print('Server time: ' + response.text)\n",
        "\n",
        "# check balances\n",
        "header = {\n",
        "\t'Accept': 'application/json',\n",
        "\t'Content-Type': 'application/json',\n",
        "\t'X-BTK-APIKEY': API_KEY,\n",
        "}\n",
        "data = {\n",
        "\t'ts': ts,\n",
        "}\n",
        "signature = sign(data)\n",
        "data['sig'] = signature\n",
        "\n",
        "print('Payload with signature: ' + json_encode(data))\n",
        "response = requests.post(API_HOST + '/api/market/balances', headers=header, data=json_encode(data))\n",
        "\n",
        "print('Balances: ' + response.text)"
      ],
      "metadata": {
        "id": "1F4Ta-CwZFc0",
        "outputId": "9244b771-e22a-4182-c105-d1c8f81c745b",
        "colab": {
          "base_uri": "https://localhost:8080/"
        }
      },
      "execution_count": 21,
      "outputs": [
        {
          "output_type": "stream",
          "name": "stdout",
          "text": [
            "Server time: 1647339336\n",
            "Signing payload: {\"ts\":1647339336}\n",
            "Payload with signature: {\"sig\":\"d6ad656dd2bea523ff6525882110a49e07598acfcaabddabb9625e3cbb8f3db6\",\"ts\":1647339336}\n",
            "Balances: {\"error\":0,\"result\":{\"BTC\":{\"available\":0,\"reserved\":0},\"ETH\":{\"available\":0,\"reserved\":0},\"WAN\":{\"available\":0,\"reserved\":0},\"ADA\":{\"available\":0,\"reserved\":0},\"OMG\":{\"available\":0,\"reserved\":0},\"BCH\":{\"available\":0,\"reserved\":0},\"USDT\":{\"available\":0,\"reserved\":0},\"LTC\":{\"available\":0,\"reserved\":0},\"XRP\":{\"available\":0,\"reserved\":0},\"ZIL\":{\"available\":0,\"reserved\":0},\"SNT\":{\"available\":0,\"reserved\":0},\"CVC\":{\"available\":0,\"reserved\":0},\"LINK\":{\"available\":0,\"reserved\":0},\"IOST\":{\"available\":0,\"reserved\":0},\"ZRX\":{\"available\":0,\"reserved\":0},\"KNC\":{\"available\":0,\"reserved\":0},\"ABT\":{\"available\":0,\"reserved\":0},\"MANA\":{\"available\":0,\"reserved\":0},\"CTXC\":{\"available\":0,\"reserved\":0},\"XLM\":{\"available\":0,\"reserved\":0},\"SIX\":{\"available\":0,\"reserved\":0},\"JFIN\":{\"available\":0,\"reserved\":0},\"BNB\":{\"available\":0,\"reserved\":0},\"POW\":{\"available\":0,\"reserved\":0},\"DOGE\":{\"available\":0,\"reserved\":0},\"DAI\":{\"available\":0,\"reserved\":0},\"USDC\":{\"available\":0,\"reserved\":0},\"BAT\":{\"available\":0,\"reserved\":0},\"BAND\":{\"available\":0,\"reserved\":0},\"KSM\":{\"available\":0,\"reserved\":0},\"DOT\":{\"available\":0,\"reserved\":0},\"NEAR\":{\"available\":0,\"reserved\":0},\"THB\":{\"available\":0.01,\"reserved\":0},\"GLM\":{\"available\":0,\"reserved\":0},\"SCRT\":{\"available\":0,\"reserved\":0},\"YFI\":{\"available\":0,\"reserved\":0},\"MKR\":{\"available\":0,\"reserved\":0},\"COMP\":{\"available\":9.29e-6,\"reserved\":0},\"DON\":{\"available\":0,\"reserved\":0},\"UNI\":{\"available\":0,\"reserved\":0},\"AAVE\":{\"available\":0,\"reserved\":0},\"ENJ\":{\"available\":0,\"reserved\":0},\"ALPHA\":{\"available\":0,\"reserved\":0},\"CRV\":{\"available\":0,\"reserved\":0},\"BAL\":{\"available\":0,\"reserved\":0},\"KUB\":{\"available\":0,\"reserved\":0},\"AXS\":{\"available\":0,\"reserved\":0},\"SAND\":{\"available\":0,\"reserved\":0},\"OCEAN\":{\"available\":0,\"reserved\":0},\"GALA\":{\"available\":0,\"reserved\":0}}}\n"
          ]
        }
      ]
    },
    {
      "cell_type": "code",
      "execution_count": 18,
      "metadata": {
        "colab": {
          "base_uri": "https://localhost:8080/"
        },
        "id": "gp8N7D5eRdTb",
        "outputId": "b822253d-0bb6-4c85-be0a-e3a2939eff88"
      },
      "outputs": [
        {
          "output_type": "stream",
          "name": "stdout",
          "text": [
            "Server time: 1647339284\n",
            "Signing payload: {\"amt\":200,\"rat\":0.29,\"sym\":\"THB_DOGE\",\"ts\":1647339284,\"typ\":\"limit\"}\n",
            "Payload with signature: {\"amt\":200,\"rat\":0.29,\"sig\":\"c203ae6f13cf0d551916a04d9e3e0c5f388d0ec609895da7a37c3cc44dfd5cd4\",\"sym\":\"THB_DOGE\",\"ts\":1647339284,\"typ\":\"limit\"}\n",
            "Response: {\"error\":18}\n"
          ]
        }
      ],
      "source": [
        "apikey = '7a047a9efb2b3db40d5c385ff9556bd6' \n",
        "apisecret = b'03bd0111f5f9583f243d78c01e8740a1'\n",
        "\n",
        "#API KEY , API SECRET นำมาจากลิ้งค์นี้ https://www.bitkub.com/publicapi\n",
        "# ห้ามลบตัว b ออกหน้ารหัส ของ apisecret\n",
        "\n",
        "import hashlib\n",
        "import hmac\n",
        "import json\n",
        "import requests\n",
        "\n",
        "# API info\n",
        "API_HOST = 'https://api.bitkub.com'\n",
        "API_KEY = '7a047a9efb2b3db40d5c385ff9556bd6' \n",
        "API_SECRET = b'03bd0111f5f9583f243d78c01e8740a1'\n",
        "\n",
        "def json_encode(data):\n",
        "\treturn json.dumps(data, separators=(',', ':'), sort_keys=True)\n",
        "\n",
        "def sign(data):\n",
        "\tj = json_encode(data)\n",
        "\tprint('Signing payload: ' + j)\n",
        "\th = hmac.new(API_SECRET, msg=j.encode(), digestmod=hashlib.sha256)\n",
        "\treturn h.hexdigest()\n",
        "\n",
        "# check server time\n",
        "response = requests.get(API_HOST + '/api/servertime')\n",
        "ts = int(response.text)\n",
        "print('Server time: ' + response.text)\n",
        "\n",
        "# place bid\n",
        "header = {\n",
        "\t'Accept': 'application/json',\n",
        "\t'Content-Type': 'application/json',\n",
        "\t'X-BTK-APIKEY': API_KEY,\n",
        "}\n",
        "data = {\n",
        "\t'sym': 'THB_DOGE',\n",
        "\t'amt': 200, # THB amount you want to spend\n",
        "\t'rat': 0.29,\n",
        "\t'typ': 'limit',\n",
        "\t'ts': ts,\n",
        "}\n",
        "signature = sign(data)\n",
        "data['sig'] = signature\n",
        "\n",
        "print('Payload with signature: ' + json_encode(data))\n",
        "response = requests.post(API_HOST + '/api/market/place-bid', headers=header, data=json_encode(data))\n",
        "\n",
        "print('Response: ' + response.text)"
      ]
    },
    {
      "cell_type": "code",
      "source": [
        "apikey = '7a047a9efb2b3db40d5c385ff9556bd6' \n",
        "apisecret = b'03bd0111f5f9583f243d78c01e8740a1'\n",
        "\n",
        "#API KEY , API SECRET นำมาจากลิ้งค์นี้ https://www.bitkub.com/publicapi\n",
        "# ห้ามลบตัว b ออกหน้ารหัส ของ apisecret\n",
        "\n",
        "import hashlib\n",
        "import hmac\n",
        "import json\n",
        "import requests\n",
        "\n",
        "\n",
        "# API info\n",
        "API_HOST = 'https://api.bitkub.com'\n",
        "API_KEY = '7a047a9efb2b3db40d5c385ff9556bd6'\n",
        "API_SECRET = b'03bd0111f5f9583f243d78c01e8740a1'\n",
        "\n",
        "def json_encode(data):\n",
        "\treturn json.dumps(data, separators=(',', ':'), sort_keys=True)\n",
        "\n",
        "def sign(data):\n",
        "\tj = json_encode(data)\n",
        "\tprint('Signing payload: ' + j)\n",
        "\th = hmac.new(API_SECRET, msg=j.encode(), digestmod=hashlib.sha256)\n",
        "\treturn h.hexdigest()\n",
        "\n",
        "# check server time\n",
        "response = requests.get(API_HOST + '/api/servertime')\n",
        "ts = int(response.text)\n",
        "print('Server time: ' + response.text)\n",
        "\n",
        "# place ask\n",
        "header = {\n",
        "\t'Accept': 'application/json',\n",
        "\t'Content-Type': 'application/json',\n",
        "\t'X-BTK-APIKEY': API_KEY,\n",
        "}\n",
        "data = {\n",
        "\t'sym': 'THB_DOGE',\n",
        "\t'amt': 100, # amount you want to sell\n",
        "\t'rat': 0.27,\n",
        "\t'typ': 'limit',\n",
        "\t'ts': ts,\n",
        "}\n",
        "signature = sign(data)\n",
        "data['sig'] = signature\n",
        "\n",
        "print('Payload with signature: ' + json_encode(data))\n",
        "response = requests.post(API_HOST + '/api/market/place-ask', headers=header, data=json_encode(data))\n",
        "\n",
        "\n",
        "print('Response: ' + response.text)"
      ],
      "metadata": {
        "colab": {
          "base_uri": "https://localhost:8080/"
        },
        "id": "PpGksctKR48Y",
        "outputId": "2d703136-432a-4daf-bb45-efd1590306a8"
      },
      "execution_count": 19,
      "outputs": [
        {
          "output_type": "stream",
          "name": "stdout",
          "text": [
            "Server time: 1647339290\n",
            "Signing payload: {\"amt\":100,\"rat\":0.27,\"sym\":\"THB_DOGE\",\"ts\":1647339290,\"typ\":\"limit\"}\n",
            "Payload with signature: {\"amt\":100,\"rat\":0.27,\"sig\":\"2eda834e5072d1c45e4ab799251182a4b3b5bce7b14d0a27d6b1da070a8865f6\",\"sym\":\"THB_DOGE\",\"ts\":1647339290,\"typ\":\"limit\"}\n",
            "Response: {\"error\":14}\n"
          ]
        }
      ]
    },
    {
      "cell_type": "code",
      "source": [
        "import hashlib\n",
        "import hmac\n",
        "import json\n",
        "import requests\n",
        "from pprint import pprint\n",
        "import pwd\n",
        "# สร้างไฟล์ pwd.py ขึ้นมา KEY='ddadsfasdfas' , SECRET = b'yasjdkfjaskdf'\n",
        "\n",
        "# API info\n",
        "API_HOST = 'https://api.bitkub.com'\n",
        "API_KEY = '7a047a9efb2b3db40d5c385ff9556bd6' \n",
        "API_SECRET = b'03bd0111f5f9583f243d78c01e8740a1'\n",
        "\n",
        "def json_encode(data):\n",
        "\treturn json.dumps(data, separators=(',', ':'), sort_keys=True)\n",
        "\n",
        "def sign(data):\n",
        "\tj = json_encode(data)\n",
        "\t#print('Signing payload: ' + j)\n",
        "\th = hmac.new(API_SECRET, msg=j.encode(), digestmod=hashlib.sha256)\n",
        "\treturn h.hexdigest()\n",
        "\n",
        "# check server time\n",
        "response = requests.get(API_HOST + '/api/servertime')\n",
        "ts = int(response.text)\n",
        "#print('Server time: ' + response.text)\n",
        "\n",
        "# check balances\n",
        "header = {\n",
        "\t'Accept': 'application/json',\n",
        "\t'Content-Type': 'application/json',\n",
        "\t'X-BTK-APIKEY': API_KEY,\n",
        "}\n",
        "data = {\n",
        "\t'ts': ts,\n",
        "}\n",
        "signature = sign(data)\n",
        "data['sig'] = signature\n",
        "\n",
        "#print('Payload with signature: ' + json_encode(data))\n",
        "response = requests.post(API_HOST + '/api/market/balances', headers=header, data=json_encode(data))\n",
        "\n",
        "#print('Balances: ' + response.text)\n",
        "\n",
        "data = response.json()\n",
        "data = data['result']\n",
        "#print(data)\n",
        "#sym = 'BTC'\n",
        "sym = ['BTC','DOGE','THB']\n",
        "\n",
        "for s in sym:\n",
        "    price = data[s]['available']\n",
        "    print('{} คงเหลือ: {}'.format(s,price))\n"
      ],
      "metadata": {
        "id": "NbYTiNJcS3Ti",
        "outputId": "beb42f59-f462-4ca5-fffe-025875aad29a",
        "colab": {
          "base_uri": "https://localhost:8080/"
        }
      },
      "execution_count": 20,
      "outputs": [
        {
          "output_type": "stream",
          "name": "stdout",
          "text": [
            "BTC คงเหลือ: 0\n",
            "DOGE คงเหลือ: 0\n",
            "THB คงเหลือ: 0.01\n"
          ]
        }
      ]
    }
  ]
}